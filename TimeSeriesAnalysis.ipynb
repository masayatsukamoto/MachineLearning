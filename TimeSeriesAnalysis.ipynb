{
 "cells": [
  {
   "cell_type": "markdown",
   "metadata": {},
   "source": [
    "# 時系列データを用いた機械学習\n",
    "時系列データに対する機械学習手法（Lasso, Ridge, サポートベクターマシン, ランダムフォレスト、ブースティング木、XGBoost、LightGBM）の使用例。\n",
    "\n",
    "参考：https://code-examples.net/ja/docs/scikit_learn/modules/cross_validation\n",
    "\n",
    "参考：https://qiita.com/nazoking@github/items/1c5106a844084cd8539a"
   ]
  },
  {
   "cell_type": "code",
   "execution_count": 1,
   "metadata": {},
   "outputs": [],
   "source": [
    "import numpy as np\n",
    "import pandas as pd\n",
    "\n",
    "from sklearn.model_selection import TimeSeriesSplit\n",
    "from sklearn.model_selection import GridSearchCV\n",
    "\n",
    "from sklearn.metrics import r2_score\n",
    "from sklearn.metrics import mean_squared_error\n",
    "\n",
    "from sklearn import linear_model\n",
    "from sklearn import svm\n",
    "from sklearn.ensemble import RandomForestRegressor\n",
    "from sklearn.ensemble import GradientBoostingRegressor\n",
    "from sklearn.neural_network import MLPRegressor\n",
    "import xgboost as xgb\n",
    "import lightgbm as lgb"
   ]
  },
  {
   "cell_type": "markdown",
   "metadata": {},
   "source": [
    "### インプットデータファイル。\n",
    "ここでは、単なる動作用のサンプルとして適当に作ったdata.csvを使用。\n",
    "\n",
    "サイズは1000×4の行列。説明変数 X1, X2, X3, 被説明変数 Yとする。時刻がt = 1,..., 1000。\n",
    "\n",
    "このdata.csvファイルは Y(t) = 3 * X1(t) + X2(t) - X3(t) + (ノイズ) (t) という式で人工的に作成している。\n",
    "\n",
    "任意のインプットデータファイルを使いたければ、この部分を変更する必要がある。"
   ]
  },
  {
   "cell_type": "code",
   "execution_count": 2,
   "metadata": {},
   "outputs": [
    {
     "data": {
      "text/html": [
       "<div>\n",
       "<style scoped>\n",
       "    .dataframe tbody tr th:only-of-type {\n",
       "        vertical-align: middle;\n",
       "    }\n",
       "\n",
       "    .dataframe tbody tr th {\n",
       "        vertical-align: top;\n",
       "    }\n",
       "\n",
       "    .dataframe thead th {\n",
       "        text-align: right;\n",
       "    }\n",
       "</style>\n",
       "<table border=\"1\" class=\"dataframe\">\n",
       "  <thead>\n",
       "    <tr style=\"text-align: right;\">\n",
       "      <th></th>\n",
       "      <th>X1</th>\n",
       "      <th>X2</th>\n",
       "      <th>X3</th>\n",
       "      <th>Y</th>\n",
       "    </tr>\n",
       "  </thead>\n",
       "  <tbody>\n",
       "    <tr>\n",
       "      <th>0</th>\n",
       "      <td>0.941956</td>\n",
       "      <td>0.125264</td>\n",
       "      <td>-0.732235</td>\n",
       "      <td>3.620466</td>\n",
       "    </tr>\n",
       "    <tr>\n",
       "      <th>1</th>\n",
       "      <td>0.572490</td>\n",
       "      <td>-0.463934</td>\n",
       "      <td>-0.858543</td>\n",
       "      <td>2.156731</td>\n",
       "    </tr>\n",
       "    <tr>\n",
       "      <th>2</th>\n",
       "      <td>0.855720</td>\n",
       "      <td>0.467162</td>\n",
       "      <td>-0.565409</td>\n",
       "      <td>3.620363</td>\n",
       "    </tr>\n",
       "    <tr>\n",
       "      <th>3</th>\n",
       "      <td>0.050989</td>\n",
       "      <td>0.271136</td>\n",
       "      <td>-0.901203</td>\n",
       "      <td>1.347712</td>\n",
       "    </tr>\n",
       "    <tr>\n",
       "      <th>4</th>\n",
       "      <td>0.450075</td>\n",
       "      <td>0.921557</td>\n",
       "      <td>-0.508214</td>\n",
       "      <td>2.784960</td>\n",
       "    </tr>\n",
       "  </tbody>\n",
       "</table>\n",
       "</div>"
      ],
      "text/plain": [
       "         X1        X2        X3         Y\n",
       "0  0.941956  0.125264 -0.732235  3.620466\n",
       "1  0.572490 -0.463934 -0.858543  2.156731\n",
       "2  0.855720  0.467162 -0.565409  3.620363\n",
       "3  0.050989  0.271136 -0.901203  1.347712\n",
       "4  0.450075  0.921557 -0.508214  2.784960"
      ]
     },
     "execution_count": 2,
     "metadata": {},
     "output_type": "execute_result"
    }
   ],
   "source": [
    "df = pd.read_csv('data.csv')\n",
    "\n",
    "X = df[[\"X1\", \"X2\", \"X3\"]].values\n",
    "y = df[[\"Y\"]].values\n",
    "y = np.reshape(y,(-1)) # ←yを1次元配列に変換するために必要。\n",
    "\n",
    "df.head() # 最初の5つだけ表示。"
   ]
  },
  {
   "cell_type": "markdown",
   "metadata": {},
   "source": [
    "### trainデータとtestデータに分割。\n",
    "今回はデータ全体の90%をtrainデータ、10%をtestデータとする。\n",
    "\n",
    "この90%のtrainデータを用いてパラメータとハイパーパラメータを決める。つまり、このtrainデータを後で更にtrain/testに分解し、クロスバリデーションを行う。\n",
    "\n",
    "10%のtestデータは最終的な精度評価に用いる。"
   ]
  },
  {
   "cell_type": "code",
   "execution_count": 3,
   "metadata": {},
   "outputs": [],
   "source": [
    "n_train = int(len(X) * 0.9)  # 今回は、1000個中の90%で900個がtrainデータ。\n",
    "X_train = X[:n_train]        # 1～900の900個\n",
    "X_test  = X[n_train:]        # 901～1000の100個\n",
    "y_train = y[:n_train]        # 1～900の900個\n",
    "y_test  = y[n_train:]        # 901～1000の100個"
   ]
  },
  {
   "cell_type": "markdown",
   "metadata": {},
   "source": [
    "### クロスバリデーションにおける分割方法の指定。\n",
    "時系列データでのクロスバリデーションはやや特殊。未来のデータを予測に使ってしまわないように注意して分割する必要がある。"
   ]
  },
  {
   "cell_type": "code",
   "execution_count": 4,
   "metadata": {},
   "outputs": [],
   "source": [
    "# 最も愚直に、手作業で指定する方法がこちら。\n",
    "\n",
    "# ハイパーパラメータを仮置きし、400個の過去データからパラメータを決め、100個の将来データで精度を評価、\n",
    "# という作業をウィンドウをずらしながら5回繰り返すものとする。\n",
    "\n",
    "tscv  = [(np.arange(  0, 400), np.arange(400, 500)),\n",
    "         (np.arange(100, 500), np.arange(500, 600)),\n",
    "         (np.arange(200, 600), np.arange(600, 700)),\n",
    "         (np.arange(300, 700), np.arange(700, 800)),\n",
    "         (np.arange(400, 800), np.arange(800, 900))] # こうして作ったtscvオブジェクトを、後のGridSearchCV関数の引数として使用する。"
   ]
  },
  {
   "cell_type": "markdown",
   "metadata": {},
   "source": [
    "TimeSeriesSplit関数を使うこともできるが、分け方がイマイチか。\n",
    "\n",
    "tscv = TimeSeriesSplit(n_splits=5)\n",
    "\n",
    "これだとデータ900個を6等分し、\n",
    "\n",
    "1回目：第1グループ150個の過去データからパラメータを決め、第2グループ150個の将来データで精度を評価、\n",
    "\n",
    "2回目：第1+第2グループ300個の過去データからパラメータを決め、第3グループ150個の将来データで精度を評価、\n",
    "\n",
    "3回目：第1+第2+第3グループ450個の過去データからパラメータを決め、第4グループ150個の将来データで精度を評価、\n",
    "\n",
    "4回目：第1+第2+第3+第4グループ600個の過去データからパラメータを決め、第5グループ150個の将来データで精度を評価、\n",
    "\n",
    "5回目：第1+第2+第3+第4+第5グループ750個の過去データからパラメータを決め、第6グループ150個の将来データで精度を評価、\n",
    "\n",
    "というクロスバリデーションを行ってしまうので、1回目のパラメータ推計で用いられるデータの個数がどうしても少なくなる。"
   ]
  },
  {
   "cell_type": "markdown",
   "metadata": {},
   "source": [
    "# 各機械学習手法を実行\n",
    "Lasso, Ridge, サポートベクターマシン, ランダムフォレスト、ブースティング木、XGBoost、LightGBM\n",
    "\n",
    "ただしXGBoostはpipによる簡単なインストールができないので、使えるようにするためには下記書籍に記載されているような面倒な作業が必要。\n",
    "https://www.amazon.co.jp/dp/4254275838"
   ]
  },
  {
   "cell_type": "markdown",
   "metadata": {},
   "source": [
    "#### 基本的にはGridSearchCVでクロスバリデーションを実行。候補の中から最適なハイパーパラメータを選択。\n",
    "参考：https://qiita.com/Lewuathe/items/09d07d3ff366e0dd6b24\n",
    "#### ただしLasso、Ridgeなど、 手法によっては専用のCV機能がついているものもあるので、それを使ってもよい。\n",
    "参考：http://scikit-learn.org/stable/modules/grid_search.html#grid-search"
   ]
  },
  {
   "cell_type": "markdown",
   "metadata": {},
   "source": [
    "# 1. Lasso\n",
    "http://scikit-learn.org/stable/modules/generated/sklearn.linear_model.LassoCV.html#sklearn.linear_model.LassoCV"
   ]
  },
  {
   "cell_type": "code",
   "execution_count": 5,
   "metadata": {},
   "outputs": [
    {
     "name": "stdout",
     "output_type": "stream",
     "text": [
      "LassoCV(alphas=None, copy_X=True,\n",
      "    cv=[(array([  0,   1, ..., 398, 399]), array([400, 401, ..., 498, 499])), (array([100, 101, ..., 498, 499]), array([500, 501, ..., 598, 599])), (array([200, 201, ..., 598, 599]), array([600, 601, ..., 698, 699])), (array([300, 301, ..., 698, 699]), array([700, 701, ..., 798, 799])), (array([400, 401, ..., 798, 799]), array([800, 801, ..., 898, 899]))],\n",
      "    eps=0.001, fit_intercept=True, max_iter=1000, n_alphas=100, n_jobs=1,\n",
      "    normalize=False, positive=False, precompute='auto', random_state=None,\n",
      "    selection='cyclic', tol=0.0001, verbose=False)\n",
      " \n",
      "Lasso alpha is 0.00033084068863525006\n",
      " \n",
      "R2 is 0.99636148274248\n",
      "RMSR is 0.06755423785949705\n"
     ]
    }
   ],
   "source": [
    "#### クロスバリデーション実行\n",
    "lasso = linear_model.LassoCV(cv=tscv)   # ここで分割方法を指定できる。今回はcv=tscv。\n",
    "lasso.fit(X_train, y_train)\n",
    "\n",
    "#### CVの諸設定を出力\n",
    "print(lasso)\n",
    "\n",
    "#### クロスバリデーションで得たハイパーパラメータ\n",
    "print(' ')\n",
    "print('Lasso alpha is {}'.format(lasso.alpha_))\n",
    "\n",
    "#### クロスバリデーションで得たパラメータおよびハイパーパラメータをもとに、予測実行\n",
    "lasso.pred = lasso.predict(X_test)\n",
    "\n",
    "#### 精度評価\n",
    "print(' ')\n",
    "print('R2 is {}'.format(r2_score(y_test, lasso.pred)) )\n",
    "print('RMSR is {}'.format(np.sqrt(mean_squared_error(y_test, lasso.pred))) )"
   ]
  },
  {
   "cell_type": "markdown",
   "metadata": {},
   "source": [
    "# 2. Ridge\n",
    "http://scikit-learn.org/stable/modules/generated/sklearn.linear_model.LassoCV.html#sklearn.linear_model.LassoCV"
   ]
  },
  {
   "cell_type": "code",
   "execution_count": 6,
   "metadata": {},
   "outputs": [
    {
     "name": "stdout",
     "output_type": "stream",
     "text": [
      "RidgeCV(alphas=(0.001, 0.01, 0.1, 1.0, 10.0),\n",
      "    cv=[(array([  0,   1, ..., 398, 399]), array([400, 401, ..., 498, 499])), (array([100, 101, ..., 498, 499]), array([500, 501, ..., 598, 599])), (array([200, 201, ..., 598, 599]), array([600, 601, ..., 698, 699])), (array([300, 301, ..., 698, 699]), array([700, 701, ..., 798, 799])), (array([400, 401, ..., 798, 799]), array([800, 801, ..., 898, 899]))],\n",
      "    fit_intercept=True, gcv_mode=None, normalize=False, scoring=None,\n",
      "    store_cv_values=False)\n",
      " \n",
      "Ridge alpha is 0.01\n",
      " \n",
      "R2 is 0.9963678294750382\n",
      "RMSR is 0.06749529409445437\n"
     ]
    }
   ],
   "source": [
    "#### クロスバリデーション実行\n",
    "ridge = linear_model.RidgeCV(alphas=(0.001, 0.01, 0.1, 1.0, 10.0), cv=tscv) # Ridgeのハイパーパラメータ候補を手入力。\n",
    "ridge.fit(X_train, y_train)\n",
    "\n",
    "#### CVの諸設定を出力\n",
    "print(ridge)\n",
    "\n",
    "#### クロスバリデーションで得たハイパーパラメータ\n",
    "print(' ')\n",
    "print('Ridge alpha is {}'.format(ridge.alpha_))\n",
    "\n",
    "#### クロスバリデーションで得たパラメータおよびハイパーパラメータをもとに、予測実行\n",
    "ridge.pred = ridge.predict(X_test)\n",
    "\n",
    "#### 精度評価\n",
    "print(' ')\n",
    "print('R2 is {}'.format(r2_score(y_test, ridge.pred)) )\n",
    "print('RMSR is {}'.format(np.sqrt(mean_squared_error(y_test, ridge.pred))) )"
   ]
  },
  {
   "cell_type": "markdown",
   "metadata": {},
   "source": [
    "# 3. サポートベクターマシン"
   ]
  },
  {
   "cell_type": "code",
   "execution_count": 7,
   "metadata": {},
   "outputs": [
    {
     "name": "stdout",
     "output_type": "stream",
     "text": [
      "SVR(C=0.5, cache_size=200, coef0=0.0, degree=3, epsilon=0.1, gamma='auto',\n",
      "  kernel='linear', max_iter=-1, shrinking=True, tol=0.001, verbose=False)\n",
      " \n",
      "R2 is 0.996348007775005\n",
      "RMSR is 0.06767921320692082\n"
     ]
    }
   ],
   "source": [
    "svr = svm.SVR(kernel='linear')\n",
    "\n",
    "#### ハイパーパラメータ候補\n",
    "param_grid = [\n",
    "    {'C': [0.01, 0.1, 0.5], 'kernel': ['linear']},\n",
    "    {'C': [0.01, 0.1, 0.5], 'gamma': [0.001, 0.0001], 'kernel': ['rbf']},\n",
    "]\n",
    "\n",
    "#### クロスバリデーション実行\n",
    "reg = GridSearchCV(estimator=svr,\n",
    "                   param_grid=param_grid,\n",
    "                   cv=tscv,\n",
    "                   scoring='neg_mean_squared_error',\n",
    "                   n_jobs=-1,\n",
    "                   return_train_score=True)\n",
    "reg.fit(X_train, y_train) \n",
    "\n",
    "#### クロスバリデーションで得たハイパーパラメータ\n",
    "print(reg.best_estimator_)\n",
    "\n",
    "#### クロスバリデーションで得たパラメータおよびハイパーパラメータをもとに、予測実行\n",
    "predictor=reg.best_estimator_\n",
    "svm_pred = predictor.predict(X_test)\n",
    "\n",
    "#### 精度評価\n",
    "print(' ')\n",
    "print('R2 is {}'.format(r2_score(y_test, svm_pred)) )\n",
    "print('RMSR is {}'.format(np.sqrt(mean_squared_error(y_test, svm_pred))) )"
   ]
  },
  {
   "cell_type": "markdown",
   "metadata": {},
   "source": [
    "#### サポートベクターマシンのCVで上位スコアを出したハイパーパラメータを表示\n",
    "参考：http://www.procrasist.com/entry/10-cross-validation"
   ]
  },
  {
   "cell_type": "code",
   "execution_count": 8,
   "metadata": {},
   "outputs": [
    {
     "data": {
      "text/html": [
       "<div>\n",
       "<style scoped>\n",
       "    .dataframe tbody tr th:only-of-type {\n",
       "        vertical-align: middle;\n",
       "    }\n",
       "\n",
       "    .dataframe tbody tr th {\n",
       "        vertical-align: top;\n",
       "    }\n",
       "\n",
       "    .dataframe thead th {\n",
       "        text-align: right;\n",
       "    }\n",
       "</style>\n",
       "<table border=\"1\" class=\"dataframe\">\n",
       "  <thead>\n",
       "    <tr style=\"text-align: right;\">\n",
       "      <th></th>\n",
       "      <th>params</th>\n",
       "      <th>mean_test_score</th>\n",
       "      <th>std_test_score</th>\n",
       "      <th>mean_fit_time</th>\n",
       "    </tr>\n",
       "  </thead>\n",
       "  <tbody>\n",
       "    <tr>\n",
       "      <th>2</th>\n",
       "      <td>{'C': 0.5, 'kernel': 'linear'}</td>\n",
       "      <td>-0.004771</td>\n",
       "      <td>0.000474</td>\n",
       "      <td>0.009418</td>\n",
       "    </tr>\n",
       "    <tr>\n",
       "      <th>1</th>\n",
       "      <td>{'C': 0.1, 'kernel': 'linear'}</td>\n",
       "      <td>-0.008620</td>\n",
       "      <td>0.000878</td>\n",
       "      <td>0.005161</td>\n",
       "    </tr>\n",
       "    <tr>\n",
       "      <th>0</th>\n",
       "      <td>{'C': 0.01, 'kernel': 'linear'}</td>\n",
       "      <td>-0.481637</td>\n",
       "      <td>0.031379</td>\n",
       "      <td>0.006811</td>\n",
       "    </tr>\n",
       "    <tr>\n",
       "      <th>7</th>\n",
       "      <td>{'C': 0.5, 'gamma': 0.001, 'kernel': 'rbf'}</td>\n",
       "      <td>-1.071478</td>\n",
       "      <td>0.050322</td>\n",
       "      <td>0.010105</td>\n",
       "    </tr>\n",
       "    <tr>\n",
       "      <th>5</th>\n",
       "      <td>{'C': 0.1, 'gamma': 0.001, 'kernel': 'rbf'}</td>\n",
       "      <td>-1.154722</td>\n",
       "      <td>0.055038</td>\n",
       "      <td>0.010713</td>\n",
       "    </tr>\n",
       "  </tbody>\n",
       "</table>\n",
       "</div>"
      ],
      "text/plain": [
       "                                        params  mean_test_score  \\\n",
       "2               {'C': 0.5, 'kernel': 'linear'}        -0.004771   \n",
       "1               {'C': 0.1, 'kernel': 'linear'}        -0.008620   \n",
       "0              {'C': 0.01, 'kernel': 'linear'}        -0.481637   \n",
       "7  {'C': 0.5, 'gamma': 0.001, 'kernel': 'rbf'}        -1.071478   \n",
       "5  {'C': 0.1, 'gamma': 0.001, 'kernel': 'rbf'}        -1.154722   \n",
       "\n",
       "   std_test_score  mean_fit_time  \n",
       "2        0.000474       0.009418  \n",
       "1        0.000878       0.005161  \n",
       "0        0.031379       0.006811  \n",
       "7        0.050322       0.010105  \n",
       "5        0.055038       0.010713  "
      ]
     },
     "execution_count": 8,
     "metadata": {},
     "output_type": "execute_result"
    }
   ],
   "source": [
    "df = pd.DataFrame(reg.cv_results_)\n",
    "df.sort_values(by=[\"rank_test_score\"])[[\"params\",\"mean_test_score\",\"std_test_score\",\"mean_fit_time\"]].head()"
   ]
  },
  {
   "cell_type": "markdown",
   "metadata": {},
   "source": [
    "# 4. ランダムフォレスト\n",
    "http://scikit-learn.org/stable/modules/generated/sklearn.ensemble.RandomForestRegressor.html#sklearn.ensemble.RandomForestRegressor\n",
    "\n",
    "https://data-science.gr.jp/implementation/iml_sklearn_random_forest.html"
   ]
  },
  {
   "cell_type": "code",
   "execution_count": 9,
   "metadata": {},
   "outputs": [
    {
     "name": "stdout",
     "output_type": "stream",
     "text": [
      "RandomForestRegressor(bootstrap=True, criterion='mse', max_depth=9,\n",
      "           max_features='auto', max_leaf_nodes=None,\n",
      "           min_impurity_decrease=0.0, min_impurity_split=None,\n",
      "           min_samples_leaf=1, min_samples_split=2,\n",
      "           min_weight_fraction_leaf=0.0, n_estimators=100, n_jobs=1,\n",
      "           oob_score=False, random_state=0, verbose=0, warm_start=False)\n",
      " \n",
      "R2 is 0.9905796842272377\n",
      "RMSR is 0.10869838949166469\n"
     ]
    }
   ],
   "source": [
    "rf = RandomForestRegressor(random_state=0)\n",
    "\n",
    "#### ハイパーパラメータ候補\n",
    "param_grid = {\n",
    "    \"n_estimators\" :[i for i in range(10,200,10)],\n",
    "    \"max_depth\"    :[i for i in range(1,10,1)]\n",
    "    }\n",
    "\n",
    "#### クロスバリデーション実行\n",
    "reg = GridSearchCV(estimator=rf,\n",
    "                   param_grid=param_grid,\n",
    "                   cv=tscv,\n",
    "                   scoring='neg_mean_squared_error',\n",
    "                   n_jobs=-1,\n",
    "                   return_train_score=True)\n",
    "reg.fit(X_train, y_train)\n",
    "\n",
    "#### クロスバリデーションで得たハイパーパラメータ\n",
    "print(reg.best_estimator_)\n",
    "    \n",
    "#### クロスバリデーションで得たパラメータおよびハイパーパラメータをもとに、予測実行\n",
    "predictor=reg.best_estimator_\n",
    "rf.pred = predictor.predict(X_test)\n",
    "\n",
    "#### 精度評価\n",
    "print(' ')\n",
    "print('R2 is {}'.format(r2_score(y_test, rf.pred)) )\n",
    "print('RMSR is {}'.format(np.sqrt(mean_squared_error(y_test, rf.pred))) )"
   ]
  },
  {
   "cell_type": "markdown",
   "metadata": {},
   "source": [
    "#### ランダムフォレストのCVで上位スコアを出したハイパーパラメータを表示"
   ]
  },
  {
   "cell_type": "code",
   "execution_count": 10,
   "metadata": {},
   "outputs": [
    {
     "data": {
      "text/html": [
       "<div>\n",
       "<style scoped>\n",
       "    .dataframe tbody tr th:only-of-type {\n",
       "        vertical-align: middle;\n",
       "    }\n",
       "\n",
       "    .dataframe tbody tr th {\n",
       "        vertical-align: top;\n",
       "    }\n",
       "\n",
       "    .dataframe thead th {\n",
       "        text-align: right;\n",
       "    }\n",
       "</style>\n",
       "<table border=\"1\" class=\"dataframe\">\n",
       "  <thead>\n",
       "    <tr style=\"text-align: right;\">\n",
       "      <th></th>\n",
       "      <th>params</th>\n",
       "      <th>mean_test_score</th>\n",
       "      <th>std_test_score</th>\n",
       "      <th>mean_fit_time</th>\n",
       "    </tr>\n",
       "  </thead>\n",
       "  <tbody>\n",
       "    <tr>\n",
       "      <th>161</th>\n",
       "      <td>{'max_depth': 9, 'n_estimators': 100}</td>\n",
       "      <td>-0.020804</td>\n",
       "      <td>0.003736</td>\n",
       "      <td>0.440557</td>\n",
       "    </tr>\n",
       "    <tr>\n",
       "      <th>162</th>\n",
       "      <td>{'max_depth': 9, 'n_estimators': 110}</td>\n",
       "      <td>-0.020805</td>\n",
       "      <td>0.003789</td>\n",
       "      <td>0.498207</td>\n",
       "    </tr>\n",
       "    <tr>\n",
       "      <th>164</th>\n",
       "      <td>{'max_depth': 9, 'n_estimators': 130}</td>\n",
       "      <td>-0.020817</td>\n",
       "      <td>0.003836</td>\n",
       "      <td>0.582510</td>\n",
       "    </tr>\n",
       "    <tr>\n",
       "      <th>160</th>\n",
       "      <td>{'max_depth': 9, 'n_estimators': 90}</td>\n",
       "      <td>-0.020834</td>\n",
       "      <td>0.003710</td>\n",
       "      <td>0.387803</td>\n",
       "    </tr>\n",
       "    <tr>\n",
       "      <th>163</th>\n",
       "      <td>{'max_depth': 9, 'n_estimators': 120}</td>\n",
       "      <td>-0.020881</td>\n",
       "      <td>0.003792</td>\n",
       "      <td>0.538078</td>\n",
       "    </tr>\n",
       "  </tbody>\n",
       "</table>\n",
       "</div>"
      ],
      "text/plain": [
       "                                    params  mean_test_score  std_test_score  \\\n",
       "161  {'max_depth': 9, 'n_estimators': 100}        -0.020804        0.003736   \n",
       "162  {'max_depth': 9, 'n_estimators': 110}        -0.020805        0.003789   \n",
       "164  {'max_depth': 9, 'n_estimators': 130}        -0.020817        0.003836   \n",
       "160   {'max_depth': 9, 'n_estimators': 90}        -0.020834        0.003710   \n",
       "163  {'max_depth': 9, 'n_estimators': 120}        -0.020881        0.003792   \n",
       "\n",
       "     mean_fit_time  \n",
       "161       0.440557  \n",
       "162       0.498207  \n",
       "164       0.582510  \n",
       "160       0.387803  \n",
       "163       0.538078  "
      ]
     },
     "execution_count": 10,
     "metadata": {},
     "output_type": "execute_result"
    }
   ],
   "source": [
    "df = pd.DataFrame(reg.cv_results_)\n",
    "df.sort_values(by=[\"rank_test_score\"])[[\"params\",\"mean_test_score\",\"std_test_score\",\"mean_fit_time\"]].head()"
   ]
  },
  {
   "cell_type": "markdown",
   "metadata": {},
   "source": [
    "# 5. ブースティング木\n",
    "http://scikit-learn.org/stable/modules/generated/sklearn.ensemble.GradientBoostingRegressor.html#sklearn.ensemble.GradientBoostingRegressor\n",
    "\n",
    "https://qiita.com/nazoking@github/items/51a46256ecda598b60dd"
   ]
  },
  {
   "cell_type": "code",
   "execution_count": 11,
   "metadata": {},
   "outputs": [
    {
     "name": "stdout",
     "output_type": "stream",
     "text": [
      "GradientBoostingRegressor(alpha=0.9, criterion='friedman_mse', init=None,\n",
      "             learning_rate=0.1, loss='ls', max_depth=2, max_features=None,\n",
      "             max_leaf_nodes=None, min_impurity_decrease=0.0,\n",
      "             min_impurity_split=None, min_samples_leaf=1,\n",
      "             min_samples_split=2, min_weight_fraction_leaf=0.0,\n",
      "             n_estimators=190, presort='auto', random_state=0,\n",
      "             subsample=1.0, verbose=0, warm_start=False)\n",
      " \n",
      "R2 is 0.9923879911605268\n",
      "RMSR is 0.09771022674078265\n"
     ]
    }
   ],
   "source": [
    "gb = GradientBoostingRegressor(random_state=0)\n",
    "\n",
    "#### ハイパーパラメータ候補\n",
    "param_grid = {\n",
    "    \"n_estimators\" :[i for i in range(10,200,10)],\n",
    "    \"max_depth\"    :[i for i in range(1,10,1)]\n",
    "    }\n",
    "\n",
    "#### クロスバリデーション実行\n",
    "reg = GridSearchCV(estimator=gb,\n",
    "                   param_grid=param_grid,\n",
    "                   cv=tscv,\n",
    "                   scoring='neg_mean_squared_error',\n",
    "                   n_jobs=-1,\n",
    "                   return_train_score=True)\n",
    "reg.fit(X_train, y_train)\n",
    "\n",
    "#### クロスバリデーションで得たハイパーパラメータ\n",
    "print(reg.best_estimator_)\n",
    "    \n",
    "#### クロスバリデーションで得たパラメータおよびハイパーパラメータをもとに、予測実行\n",
    "predictor=reg.best_estimator_\n",
    "gb.pred = predictor.predict(X_test)\n",
    "\n",
    "#### 精度評価\n",
    "print(' ')\n",
    "print('R2 is {}'.format(r2_score(y_test, gb.pred)) )\n",
    "print('RMSR is {}'.format(np.sqrt(mean_squared_error(y_test, gb.pred))) )"
   ]
  },
  {
   "cell_type": "markdown",
   "metadata": {},
   "source": [
    "#### ブースティング木のCVで上位スコアを出したハイパーパラメータを表示"
   ]
  },
  {
   "cell_type": "code",
   "execution_count": 12,
   "metadata": {},
   "outputs": [
    {
     "data": {
      "text/html": [
       "<div>\n",
       "<style scoped>\n",
       "    .dataframe tbody tr th:only-of-type {\n",
       "        vertical-align: middle;\n",
       "    }\n",
       "\n",
       "    .dataframe tbody tr th {\n",
       "        vertical-align: top;\n",
       "    }\n",
       "\n",
       "    .dataframe thead th {\n",
       "        text-align: right;\n",
       "    }\n",
       "</style>\n",
       "<table border=\"1\" class=\"dataframe\">\n",
       "  <thead>\n",
       "    <tr style=\"text-align: right;\">\n",
       "      <th></th>\n",
       "      <th>params</th>\n",
       "      <th>mean_test_score</th>\n",
       "      <th>std_test_score</th>\n",
       "      <th>mean_fit_time</th>\n",
       "    </tr>\n",
       "  </thead>\n",
       "  <tbody>\n",
       "    <tr>\n",
       "      <th>37</th>\n",
       "      <td>{'max_depth': 2, 'n_estimators': 190}</td>\n",
       "      <td>-0.013474</td>\n",
       "      <td>0.002953</td>\n",
       "      <td>0.098885</td>\n",
       "    </tr>\n",
       "    <tr>\n",
       "      <th>56</th>\n",
       "      <td>{'max_depth': 3, 'n_estimators': 190}</td>\n",
       "      <td>-0.013552</td>\n",
       "      <td>0.002805</td>\n",
       "      <td>0.121816</td>\n",
       "    </tr>\n",
       "    <tr>\n",
       "      <th>55</th>\n",
       "      <td>{'max_depth': 3, 'n_estimators': 180}</td>\n",
       "      <td>-0.013629</td>\n",
       "      <td>0.002846</td>\n",
       "      <td>0.107788</td>\n",
       "    </tr>\n",
       "    <tr>\n",
       "      <th>36</th>\n",
       "      <td>{'max_depth': 2, 'n_estimators': 180}</td>\n",
       "      <td>-0.013644</td>\n",
       "      <td>0.002955</td>\n",
       "      <td>0.088464</td>\n",
       "    </tr>\n",
       "    <tr>\n",
       "      <th>54</th>\n",
       "      <td>{'max_depth': 3, 'n_estimators': 170}</td>\n",
       "      <td>-0.013670</td>\n",
       "      <td>0.002869</td>\n",
       "      <td>0.102189</td>\n",
       "    </tr>\n",
       "  </tbody>\n",
       "</table>\n",
       "</div>"
      ],
      "text/plain": [
       "                                   params  mean_test_score  std_test_score  \\\n",
       "37  {'max_depth': 2, 'n_estimators': 190}        -0.013474        0.002953   \n",
       "56  {'max_depth': 3, 'n_estimators': 190}        -0.013552        0.002805   \n",
       "55  {'max_depth': 3, 'n_estimators': 180}        -0.013629        0.002846   \n",
       "36  {'max_depth': 2, 'n_estimators': 180}        -0.013644        0.002955   \n",
       "54  {'max_depth': 3, 'n_estimators': 170}        -0.013670        0.002869   \n",
       "\n",
       "    mean_fit_time  \n",
       "37       0.098885  \n",
       "56       0.121816  \n",
       "55       0.107788  \n",
       "36       0.088464  \n",
       "54       0.102189  "
      ]
     },
     "execution_count": 12,
     "metadata": {},
     "output_type": "execute_result"
    }
   ],
   "source": [
    "df = pd.DataFrame(reg.cv_results_)\n",
    "df.sort_values(by=[\"rank_test_score\"])[[\"params\",\"mean_test_score\",\"std_test_score\",\"mean_fit_time\"]].head()"
   ]
  },
  {
   "cell_type": "markdown",
   "metadata": {},
   "source": [
    "# 6. ニューラルネット（多層パーセプトロン）\n",
    "公式：http://scikit-learn.org/stable/modules/generated/sklearn.neural_network.MLPRegressor.html#sklearn.neural_network.MLPRegressor\n",
    "\n",
    "シンプルな計算例：https://qiita.com/mix_dvd/items/c37ef06b1ba58bf6d578\n",
    "\n",
    "丁寧なパラメータ解説：https://data-science.gr.jp/implementation/iml_sklearn_mlp.html\n",
    "\n",
    "丁寧なパラメータ解説：https://spjai.com/neural-network-parameter/"
   ]
  },
  {
   "cell_type": "code",
   "execution_count": 13,
   "metadata": {},
   "outputs": [
    {
     "name": "stdout",
     "output_type": "stream",
     "text": [
      "MLPRegressor(activation='relu', alpha=0.0001, batch_size=20, beta_1=0.9,\n",
      "       beta_2=0.999, early_stopping=False, epsilon=1e-08,\n",
      "       hidden_layer_sizes=(10, 5), learning_rate='constant',\n",
      "       learning_rate_init=0.001, max_iter=10000, momentum=0.9,\n",
      "       nesterovs_momentum=True, power_t=0.5, random_state=0, shuffle=True,\n",
      "       solver='adam', tol=0.0001, validation_fraction=0.1, verbose=False,\n",
      "       warm_start=False)\n",
      " \n",
      "R2 is 0.996188648658169\n",
      "RMSR is 0.06914007904357049\n"
     ]
    }
   ],
   "source": [
    "nnet = MLPRegressor(random_state=0, max_iter=10000) # early_stopping=Trueはすべきか \n",
    "\n",
    "#### ハイパーパラメータ候補\n",
    "param_grid = {\n",
    "    \"hidden_layer_sizes\" : [(10), (10, 5), (10, 10, 5), (10, 10, 10, 5)],\n",
    "    \"batch_size\" : [20,50,100,200]\n",
    "    }\n",
    "\n",
    "#### クロスバリデーション実行\n",
    "reg = GridSearchCV(estimator=nnet,\n",
    "                   param_grid=param_grid,\n",
    "                   cv=tscv,\n",
    "                   scoring='neg_mean_squared_error',\n",
    "                   n_jobs=-1,\n",
    "                   return_train_score=True)\n",
    "reg.fit(X_train, y_train)\n",
    "\n",
    "#### クロスバリデーションで得たハイパーパラメータ\n",
    "print(reg.best_estimator_)\n",
    "    \n",
    "#### クロスバリデーションで得たパラメータおよびハイパーパラメータをもとに、予測実行\n",
    "predictor=reg.best_estimator_\n",
    "nnet.pred = predictor.predict(X_test)\n",
    "\n",
    "#### 精度評価\n",
    "print(' ')\n",
    "print('R2 is {}'.format(r2_score(y_test, nnet.pred)) )\n",
    "print('RMSR is {}'.format(np.sqrt(mean_squared_error(y_test, nnet.pred))) )"
   ]
  },
  {
   "cell_type": "markdown",
   "metadata": {},
   "source": [
    "#### ニューラルネットのCVで上位スコアを出したハイパーパラメータを表示"
   ]
  },
  {
   "cell_type": "code",
   "execution_count": 14,
   "metadata": {},
   "outputs": [
    {
     "data": {
      "text/html": [
       "<div>\n",
       "<style scoped>\n",
       "    .dataframe tbody tr th:only-of-type {\n",
       "        vertical-align: middle;\n",
       "    }\n",
       "\n",
       "    .dataframe tbody tr th {\n",
       "        vertical-align: top;\n",
       "    }\n",
       "\n",
       "    .dataframe thead th {\n",
       "        text-align: right;\n",
       "    }\n",
       "</style>\n",
       "<table border=\"1\" class=\"dataframe\">\n",
       "  <thead>\n",
       "    <tr style=\"text-align: right;\">\n",
       "      <th></th>\n",
       "      <th>params</th>\n",
       "      <th>mean_test_score</th>\n",
       "      <th>std_test_score</th>\n",
       "      <th>mean_fit_time</th>\n",
       "    </tr>\n",
       "  </thead>\n",
       "  <tbody>\n",
       "    <tr>\n",
       "      <th>1</th>\n",
       "      <td>{'batch_size': 20, 'hidden_layer_sizes': (10, 5)}</td>\n",
       "      <td>-0.005527</td>\n",
       "      <td>0.001030</td>\n",
       "      <td>0.933266</td>\n",
       "    </tr>\n",
       "    <tr>\n",
       "      <th>5</th>\n",
       "      <td>{'batch_size': 50, 'hidden_layer_sizes': (10, 5)}</td>\n",
       "      <td>-0.006580</td>\n",
       "      <td>0.001154</td>\n",
       "      <td>0.923160</td>\n",
       "    </tr>\n",
       "    <tr>\n",
       "      <th>3</th>\n",
       "      <td>{'batch_size': 20, 'hidden_layer_sizes': (10, ...</td>\n",
       "      <td>-0.007713</td>\n",
       "      <td>0.001430</td>\n",
       "      <td>1.964085</td>\n",
       "    </tr>\n",
       "    <tr>\n",
       "      <th>9</th>\n",
       "      <td>{'batch_size': 100, 'hidden_layer_sizes': (10,...</td>\n",
       "      <td>-0.008976</td>\n",
       "      <td>0.001711</td>\n",
       "      <td>0.883088</td>\n",
       "    </tr>\n",
       "    <tr>\n",
       "      <th>0</th>\n",
       "      <td>{'batch_size': 20, 'hidden_layer_sizes': 10}</td>\n",
       "      <td>-0.011585</td>\n",
       "      <td>0.001288</td>\n",
       "      <td>0.870888</td>\n",
       "    </tr>\n",
       "  </tbody>\n",
       "</table>\n",
       "</div>"
      ],
      "text/plain": [
       "                                              params  mean_test_score  \\\n",
       "1  {'batch_size': 20, 'hidden_layer_sizes': (10, 5)}        -0.005527   \n",
       "5  {'batch_size': 50, 'hidden_layer_sizes': (10, 5)}        -0.006580   \n",
       "3  {'batch_size': 20, 'hidden_layer_sizes': (10, ...        -0.007713   \n",
       "9  {'batch_size': 100, 'hidden_layer_sizes': (10,...        -0.008976   \n",
       "0       {'batch_size': 20, 'hidden_layer_sizes': 10}        -0.011585   \n",
       "\n",
       "   std_test_score  mean_fit_time  \n",
       "1        0.001030       0.933266  \n",
       "5        0.001154       0.923160  \n",
       "3        0.001430       1.964085  \n",
       "9        0.001711       0.883088  \n",
       "0        0.001288       0.870888  "
      ]
     },
     "execution_count": 14,
     "metadata": {},
     "output_type": "execute_result"
    }
   ],
   "source": [
    "df = pd.DataFrame(reg.cv_results_)\n",
    "df.sort_values(by=[\"rank_test_score\"])[[\"params\",\"mean_test_score\",\"std_test_score\",\"mean_fit_time\"]].head()"
   ]
  },
  {
   "cell_type": "markdown",
   "metadata": {},
   "source": [
    "# 7. XGBoost\n",
    "http://tekenuko.hatenablog.com/entry/2016/09/22/220814\n",
    "\n",
    "https://qiita.com/onlyzs/items/46305d3ca41f0a764b55"
   ]
  },
  {
   "cell_type": "code",
   "execution_count": 15,
   "metadata": {},
   "outputs": [
    {
     "name": "stdout",
     "output_type": "stream",
     "text": [
      "XGBRegressor(base_score=0.5, booster='gbtree', colsample_bylevel=1,\n",
      "       colsample_bytree=1, gamma=0, learning_rate=0.1, max_delta_step=0,\n",
      "       max_depth=7, min_child_weight=1, missing=None, n_estimators=100,\n",
      "       n_jobs=1, nthread=None, objective='reg:linear', random_state=0,\n",
      "       reg_alpha=0, reg_lambda=1, scale_pos_weight=1, seed=None,\n",
      "       silent=True, subsample=0.8)\n",
      " \n",
      "R2 is 0.9908555749513108\n",
      "RMSR is 0.10709484865192571\n"
     ]
    }
   ],
   "source": [
    "xgb_model = xgb.XGBRegressor(random_state=0)\n",
    "\n",
    "#### ハイパーパラメータ候補\n",
    "param_grid = {\n",
    "    'max_depth': [3, 5, 7, 10],\n",
    "    'learning_rate': [0.05, 0.1],\n",
    "    'subsample': [0.8, 0.85, 0.9, 0.95]\n",
    "    }\n",
    "\n",
    "#### クロスバリデーション実行\n",
    "reg = GridSearchCV(estimator=xgb_model,\n",
    "                   param_grid=param_grid,\n",
    "                   cv=tscv,\n",
    "                   scoring='neg_mean_squared_error', \n",
    "                   n_jobs=-1,\n",
    "                   return_train_score=True)\n",
    "reg.fit(X_train, y_train)\n",
    "\n",
    "#### クロスバリデーションで得たハイパーパラメータ\n",
    "print(reg.best_estimator_)\n",
    "\n",
    "#### クロスバリデーションで得たパラメータおよびハイパーパラメータをもとに、予測実行\n",
    "predictor = reg.best_estimator_\n",
    "xgb_pred = predictor.predict(X_test)\n",
    "\n",
    "#### 精度評価\n",
    "print(' ')\n",
    "print('R2 is {}'.format(r2_score(y_test, xgb_pred)) )\n",
    "print('RMSR is {}'.format(np.sqrt(mean_squared_error(y_test, xgb_pred))) )"
   ]
  },
  {
   "cell_type": "markdown",
   "metadata": {},
   "source": [
    "#### XGBoostのCVで上位スコアを出したハイパーパラメータを表示"
   ]
  },
  {
   "cell_type": "code",
   "execution_count": 16,
   "metadata": {},
   "outputs": [
    {
     "data": {
      "text/html": [
       "<div>\n",
       "<style scoped>\n",
       "    .dataframe tbody tr th:only-of-type {\n",
       "        vertical-align: middle;\n",
       "    }\n",
       "\n",
       "    .dataframe tbody tr th {\n",
       "        vertical-align: top;\n",
       "    }\n",
       "\n",
       "    .dataframe thead th {\n",
       "        text-align: right;\n",
       "    }\n",
       "</style>\n",
       "<table border=\"1\" class=\"dataframe\">\n",
       "  <thead>\n",
       "    <tr style=\"text-align: right;\">\n",
       "      <th></th>\n",
       "      <th>params</th>\n",
       "      <th>mean_test_score</th>\n",
       "      <th>std_test_score</th>\n",
       "    </tr>\n",
       "  </thead>\n",
       "  <tbody>\n",
       "    <tr>\n",
       "      <th>24</th>\n",
       "      <td>{'learning_rate': 0.1, 'max_depth': 7, 'subsample': 0.8}</td>\n",
       "      <td>-0.013545</td>\n",
       "      <td>0.001294</td>\n",
       "    </tr>\n",
       "    <tr>\n",
       "      <th>28</th>\n",
       "      <td>{'learning_rate': 0.1, 'max_depth': 10, 'subsample': 0.8}</td>\n",
       "      <td>-0.013549</td>\n",
       "      <td>0.001518</td>\n",
       "    </tr>\n",
       "    <tr>\n",
       "      <th>16</th>\n",
       "      <td>{'learning_rate': 0.1, 'max_depth': 3, 'subsample': 0.8}</td>\n",
       "      <td>-0.013774</td>\n",
       "      <td>0.003820</td>\n",
       "    </tr>\n",
       "    <tr>\n",
       "      <th>20</th>\n",
       "      <td>{'learning_rate': 0.1, 'max_depth': 5, 'subsample': 0.8}</td>\n",
       "      <td>-0.013783</td>\n",
       "      <td>0.001721</td>\n",
       "    </tr>\n",
       "    <tr>\n",
       "      <th>21</th>\n",
       "      <td>{'learning_rate': 0.1, 'max_depth': 5, 'subsample': 0.85}</td>\n",
       "      <td>-0.014027</td>\n",
       "      <td>0.002243</td>\n",
       "    </tr>\n",
       "  </tbody>\n",
       "</table>\n",
       "</div>"
      ],
      "text/plain": [
       "                                                       params  \\\n",
       "24   {'learning_rate': 0.1, 'max_depth': 7, 'subsample': 0.8}   \n",
       "28  {'learning_rate': 0.1, 'max_depth': 10, 'subsample': 0.8}   \n",
       "16   {'learning_rate': 0.1, 'max_depth': 3, 'subsample': 0.8}   \n",
       "20   {'learning_rate': 0.1, 'max_depth': 5, 'subsample': 0.8}   \n",
       "21  {'learning_rate': 0.1, 'max_depth': 5, 'subsample': 0.85}   \n",
       "\n",
       "    mean_test_score  std_test_score  \n",
       "24        -0.013545        0.001294  \n",
       "28        -0.013549        0.001518  \n",
       "16        -0.013774        0.003820  \n",
       "20        -0.013783        0.001721  \n",
       "21        -0.014027        0.002243  "
      ]
     },
     "execution_count": 16,
     "metadata": {},
     "output_type": "execute_result"
    }
   ],
   "source": [
    "pd.set_option(\"display.max_colwidth\", 150)\n",
    "df = pd.DataFrame(reg.cv_results_)\n",
    "df.sort_values(by=[\"rank_test_score\"])[[\"params\",\"mean_test_score\",\"std_test_score\"]].head()"
   ]
  },
  {
   "cell_type": "markdown",
   "metadata": {},
   "source": [
    "# 8. LightGBM\n",
    "https://blog.amedama.jp/entry/2018/05/01/081842\n",
    "\n",
    "https://stackoverrun.com/ja/q/12370570\n",
    "\n",
    "http://longtweets.hatenablog.com/?page=1520156276\n",
    "\n",
    "https://qiita.com/TomokIshii/items/3729c1b9c658cc48b5cb"
   ]
  },
  {
   "cell_type": "code",
   "execution_count": 17,
   "metadata": {},
   "outputs": [
    {
     "name": "stdout",
     "output_type": "stream",
     "text": [
      "LGBMRegressor(boosting_type='gbdt', class_weight=None, colsample_bytree=1.0,\n",
      "       learning_rate=0.1, max_depth=-1, min_child_samples=20,\n",
      "       min_child_weight=0.001, min_split_gain=0.0, n_estimators=100,\n",
      "       n_jobs=-1, num_leaves=8, objective='regression', random_state=0,\n",
      "       reg_alpha=0.0, reg_lambda=0.0, silent=True, subsample=1.0,\n",
      "       subsample_for_bin=200000, subsample_freq=1)\n",
      " \n",
      "R2 is 0.991058878918213\n",
      "RMSR is 0.1058976608574778\n"
     ]
    }
   ],
   "source": [
    "lgb_model = lgb.LGBMRegressor(random_state=0)\n",
    "\n",
    "#### ハイパーパラメータ候補\n",
    "param_grid = {\n",
    "    'objective' : ['regression'],\n",
    "    'max_depth': [-1, 2, 3, 5, 7, 10],\n",
    "    'num_leaves' : [2, 4, 8, 31, 32, 128, 1024],\n",
    "    'learning_rate': [0.05, 0.1]\n",
    "    }\n",
    "\n",
    "#### クロスバリデーション実行\n",
    "reg = GridSearchCV(estimator=lgb_model,\n",
    "                   param_grid=param_grid,\n",
    "                   cv=tscv,\n",
    "                   scoring='neg_mean_squared_error', # 'mean_squared_error' と書いても同じ。\n",
    "                   n_jobs=-1,\n",
    "                   return_train_score=True)\n",
    "reg.fit(X_train, y_train)\n",
    "\n",
    "#### クロスバリデーションで得たハイパーパラメータ\n",
    "print(reg.best_estimator_)\n",
    "    \n",
    "#### クロスバリデーションで得たパラメータおよびハイパーパラメータをもとに、予測実行\n",
    "predictor = reg.best_estimator_\n",
    "lgb_pred = predictor.predict(X_test)\n",
    "\n",
    "#### 精度評価\n",
    "print(' ')\n",
    "print('R2 is {}'.format(r2_score(y_test, lgb_pred)) )\n",
    "print('RMSR is {}'.format(np.sqrt(mean_squared_error(y_test, lgb_pred))) )"
   ]
  },
  {
   "cell_type": "markdown",
   "metadata": {},
   "source": [
    "#### LightGBMのCVで上位スコアを出したハイパーパラメータを表示"
   ]
  },
  {
   "cell_type": "code",
   "execution_count": 18,
   "metadata": {
    "scrolled": true
   },
   "outputs": [
    {
     "data": {
      "text/html": [
       "<div>\n",
       "<style scoped>\n",
       "    .dataframe tbody tr th:only-of-type {\n",
       "        vertical-align: middle;\n",
       "    }\n",
       "\n",
       "    .dataframe tbody tr th {\n",
       "        vertical-align: top;\n",
       "    }\n",
       "\n",
       "    .dataframe thead th {\n",
       "        text-align: right;\n",
       "    }\n",
       "</style>\n",
       "<table border=\"1\" class=\"dataframe\">\n",
       "  <thead>\n",
       "    <tr style=\"text-align: right;\">\n",
       "      <th></th>\n",
       "      <th>params</th>\n",
       "      <th>mean_test_score</th>\n",
       "      <th>std_test_score</th>\n",
       "    </tr>\n",
       "  </thead>\n",
       "  <tbody>\n",
       "    <tr>\n",
       "      <th>44</th>\n",
       "      <td>{'learning_rate': 0.1, 'max_depth': -1, 'num_leaves': 8, 'objective': 'regression'}</td>\n",
       "      <td>-0.014666</td>\n",
       "      <td>0.002211</td>\n",
       "    </tr>\n",
       "    <tr>\n",
       "      <th>72</th>\n",
       "      <td>{'learning_rate': 0.1, 'max_depth': 7, 'num_leaves': 8, 'objective': 'regression'}</td>\n",
       "      <td>-0.014666</td>\n",
       "      <td>0.002211</td>\n",
       "    </tr>\n",
       "    <tr>\n",
       "      <th>79</th>\n",
       "      <td>{'learning_rate': 0.1, 'max_depth': 10, 'num_leaves': 8, 'objective': 'regression'}</td>\n",
       "      <td>-0.014666</td>\n",
       "      <td>0.002211</td>\n",
       "    </tr>\n",
       "    <tr>\n",
       "      <th>45</th>\n",
       "      <td>{'learning_rate': 0.1, 'max_depth': -1, 'num_leaves': 31, 'objective': 'regression'}</td>\n",
       "      <td>-0.014767</td>\n",
       "      <td>0.002814</td>\n",
       "    </tr>\n",
       "    <tr>\n",
       "      <th>46</th>\n",
       "      <td>{'learning_rate': 0.1, 'max_depth': -1, 'num_leaves': 32, 'objective': 'regression'}</td>\n",
       "      <td>-0.014767</td>\n",
       "      <td>0.002814</td>\n",
       "    </tr>\n",
       "  </tbody>\n",
       "</table>\n",
       "</div>"
      ],
      "text/plain": [
       "                                                                                  params  \\\n",
       "44   {'learning_rate': 0.1, 'max_depth': -1, 'num_leaves': 8, 'objective': 'regression'}   \n",
       "72    {'learning_rate': 0.1, 'max_depth': 7, 'num_leaves': 8, 'objective': 'regression'}   \n",
       "79   {'learning_rate': 0.1, 'max_depth': 10, 'num_leaves': 8, 'objective': 'regression'}   \n",
       "45  {'learning_rate': 0.1, 'max_depth': -1, 'num_leaves': 31, 'objective': 'regression'}   \n",
       "46  {'learning_rate': 0.1, 'max_depth': -1, 'num_leaves': 32, 'objective': 'regression'}   \n",
       "\n",
       "    mean_test_score  std_test_score  \n",
       "44        -0.014666        0.002211  \n",
       "72        -0.014666        0.002211  \n",
       "79        -0.014666        0.002211  \n",
       "45        -0.014767        0.002814  \n",
       "46        -0.014767        0.002814  "
      ]
     },
     "execution_count": 18,
     "metadata": {},
     "output_type": "execute_result"
    }
   ],
   "source": [
    "df = pd.DataFrame(reg.cv_results_)\n",
    "df.sort_values(by=[\"rank_test_score\"])[[\"params\",\"mean_test_score\",\"std_test_score\"]].head()"
   ]
  }
 ],
 "metadata": {
  "kernelspec": {
   "display_name": "Python 3",
   "language": "python",
   "name": "python3"
  },
  "language_info": {
   "codemirror_mode": {
    "name": "ipython",
    "version": 3
   },
   "file_extension": ".py",
   "mimetype": "text/x-python",
   "name": "python",
   "nbconvert_exporter": "python",
   "pygments_lexer": "ipython3",
   "version": "3.6.5"
  }
 },
 "nbformat": 4,
 "nbformat_minor": 2
}
